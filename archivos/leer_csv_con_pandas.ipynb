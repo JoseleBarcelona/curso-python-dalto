{
 "cells": [
  {
   "cell_type": "code",
   "execution_count": 1,
   "metadata": {},
   "outputs": [
    {
     "name": "stdout",
     "output_type": "stream",
     "text": [
      "['Nombre', 'Apellido', 'Edad']\n",
      "['Antonio', 'López', '54']\n",
      "['María', 'García', '21']\n",
      "['Laura', 'Barranco', '84']\n"
     ]
    }
   ],
   "source": [
    "import csv\n",
    "\n",
    "with open('datos.csv', 'r', encoding='utf-8') as archivo:\n",
    "    reader = csv.reader(archivo)\n",
    "    for row in reader:\n",
    "        print(row)"
   ]
  },
  {
   "cell_type": "code",
   "execution_count": 2,
   "metadata": {},
   "outputs": [
    {
     "data": {
      "text/html": [
       "<div>\n",
       "<style scoped>\n",
       "    .dataframe tbody tr th:only-of-type {\n",
       "        vertical-align: middle;\n",
       "    }\n",
       "\n",
       "    .dataframe tbody tr th {\n",
       "        vertical-align: top;\n",
       "    }\n",
       "\n",
       "    .dataframe thead th {\n",
       "        text-align: right;\n",
       "    }\n",
       "</style>\n",
       "<table border=\"1\" class=\"dataframe\">\n",
       "  <thead>\n",
       "    <tr style=\"text-align: right;\">\n",
       "      <th></th>\n",
       "      <th>Nombre</th>\n",
       "      <th>Apellido</th>\n",
       "      <th>Edad</th>\n",
       "    </tr>\n",
       "  </thead>\n",
       "  <tbody>\n",
       "    <tr>\n",
       "      <th>0</th>\n",
       "      <td>Antonio</td>\n",
       "      <td>López</td>\n",
       "      <td>54</td>\n",
       "    </tr>\n",
       "    <tr>\n",
       "      <th>1</th>\n",
       "      <td>María</td>\n",
       "      <td>García</td>\n",
       "      <td>21</td>\n",
       "    </tr>\n",
       "    <tr>\n",
       "      <th>2</th>\n",
       "      <td>Laura</td>\n",
       "      <td>Barranco</td>\n",
       "      <td>84</td>\n",
       "    </tr>\n",
       "  </tbody>\n",
       "</table>\n",
       "</div>"
      ],
      "text/plain": [
       "    Nombre  Apellido  Edad\n",
       "0  Antonio     López    54\n",
       "1    María    García    21\n",
       "2    Laura  Barranco    84"
      ]
     },
     "execution_count": 2,
     "metadata": {},
     "output_type": "execute_result"
    }
   ],
   "source": [
    "import pandas as pd\n",
    "\n",
    "archivo = pd.read_csv('datos.csv')\n",
    "archivo"
   ]
  },
  {
   "cell_type": "code",
   "execution_count": 29,
   "metadata": {},
   "outputs": [
    {
     "name": "stdout",
     "output_type": "stream",
     "text": [
      "[0, 1, 1, 2, 3, 5, 8, 13, 21]\n"
     ]
    }
   ],
   "source": [
    "def secuencia_fibonacci(number):\n",
    "    a,b=0,1 #desempaquetamos\n",
    "    lista_fibonacci = [0]\n",
    "    for i in range(number):\n",
    "        if b > number: return lista_fibonacci\n",
    "        else:\n",
    "            lista_fibonacci.append(b)\n",
    "            a,b = b, a+b\n",
    "\n",
    "resultado = secuencia_fibonacci(21)\n",
    "print(resultado)"
   ]
  },
  {
   "cell_type": "code",
   "execution_count": 1,
   "metadata": {},
   "outputs": [
    {
     "name": "stdout",
     "output_type": "stream",
     "text": [
      "0123456789\n",
      "0123456789\n",
      "012\n",
      "0123456\n",
      "456\n",
      "2345\n",
      "3456789\n",
      "2468\n",
      "246\n"
     ]
    }
   ],
   "source": [
    "cadena = '0123456789'\n",
    "print(cadena) #0123456789\n",
    "print(cadena[:]) #0123456789\n",
    "print(cadena[:3]) #012  COMIENZA EN EL ÍNDICE 0 Y TERMINA EN EL 3\n",
    "print(cadena[:7]) #0123456\n",
    "print(cadena[4:7]) #456  COMIENZA EN EL ÍNDICE 4 Y TERMINA EN EL 7\n",
    "print(cadena[2:6]) #2345\n",
    "print(cadena[3:]) #3456789 COMIENZA EN EL ÍNDICE 3 Y TERMINA EN EL ÚLTIMO\n",
    "\n",
    "print(cadena[2::2]) #2468\n",
    "print(cadena[2:7:2]) #246 [inicio:fin:paso]"
   ]
  }
 ],
 "metadata": {
  "kernelspec": {
   "display_name": "env",
   "language": "python",
   "name": "python3"
  },
  "language_info": {
   "codemirror_mode": {
    "name": "ipython",
    "version": 3
   },
   "file_extension": ".py",
   "mimetype": "text/x-python",
   "name": "python",
   "nbconvert_exporter": "python",
   "pygments_lexer": "ipython3",
   "version": "3.12.4"
  }
 },
 "nbformat": 4,
 "nbformat_minor": 2
}
